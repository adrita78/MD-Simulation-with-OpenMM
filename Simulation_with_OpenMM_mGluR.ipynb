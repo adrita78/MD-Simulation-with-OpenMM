{
  "nbformat": 4,
  "nbformat_minor": 0,
  "metadata": {
    "colab": {
      "provenance": []
    },
    "kernelspec": {
      "name": "python3",
      "display_name": "Python 3"
    },
    "language_info": {
      "name": "python"
    }
  },
  "cells": [
    {
      "cell_type": "code",
      "execution_count": 1,
      "metadata": {
        "colab": {
          "base_uri": "https://localhost:8080/"
        },
        "id": "KdunFmVspuaX",
        "outputId": "5c132c96-00a3-4b07-81cd-d4fdc85f8ae6"
      },
      "outputs": [
        {
          "output_type": "stream",
          "name": "stdout",
          "text": [
            "Looking in indexes: https://pypi.org/simple, https://us-python.pkg.dev/colab-wheels/public/simple/\n",
            "Collecting condacolab\n",
            "  Downloading condacolab-0.1.4-py3-none-any.whl (6.9 kB)\n",
            "Installing collected packages: condacolab\n",
            "Successfully installed condacolab-0.1.4\n",
            "⏬ Downloading https://github.com/jaimergp/miniforge/releases/latest/download/Mambaforge-colab-Linux-x86_64.sh...\n",
            "📦 Installing...\n",
            "📌 Adjusting configuration...\n",
            "🩹 Patching environment...\n",
            "⏲ Done in 0:00:25\n",
            "🔁 Restarting kernel...\n"
          ]
        }
      ],
      "source": [
        "try:\n",
        "    import google.colab\n",
        "    !pip install condacolab\n",
        "    import condacolab\n",
        "    condacolab.install()\n",
        "except ModuleNotFoundError:\n",
        "    pass"
      ]
    },
    {
      "cell_type": "code",
      "source": [
        "try:\n",
        "    import condacolab\n",
        "    from google.colab import files\n",
        "    from IPython.display import clear_output\n",
        "    condacolab.check()\n",
        "    !conda install -q -y -c conda-forge mdtraj openmm openmmforcefields openff-toolkit pdbfixer pypdb rdkit\n",
        "except ModuleNotFoundError:\n",
        "    on_colab = False\n",
        "else:\n",
        "    #check if installation was succesful\n",
        "    try:\n",
        "        import rdkit\n",
        "        on_colab = True\n",
        "        clear_output()  # clear the excessive installation outputs\n",
        "        print(\"Dependencies successfully installed!\")\n",
        "    except ModuleNotFoundError:\n",
        "        print(\"Error while installing dependencies!\")"
      ],
      "metadata": {
        "colab": {
          "base_uri": "https://localhost:8080/"
        },
        "id": "IPT7Wpk1rByn",
        "outputId": "d681e3f7-cd41-4735-d60a-ddf959d14ec0"
      },
      "execution_count": 1,
      "outputs": [
        {
          "output_type": "stream",
          "name": "stdout",
          "text": [
            "Dependencies successfully installed!\n"
          ]
        }
      ]
    },
    {
      "cell_type": "code",
      "source": [
        "import copy\n",
        "from pathlib import Path\n",
        "\n",
        "import requests\n",
        "from IPython.display import display\n",
        "import numpy as np\n",
        "from rdkit import Chem\n",
        "from rdkit.Chem import Draw\n",
        "from rdkit.Chem import AllChem\n",
        "import mdtraj as md\n",
        "import pdbfixer\n",
        "import simtk.openmm as mm\n",
        "import simtk.openmm.app as app\n",
        "from simtk.openmm import unit\n",
        "from openff.toolkit.topology import Molecule, Topology\n",
        "from openmmforcefields.generators import GAFFTemplateGenerator"
      ],
      "metadata": {
        "colab": {
          "base_uri": "https://localhost:8080/"
        },
        "id": "xDpHwSBnrsSF",
        "outputId": "106d4c87-1799-4d8c-d18f-72089cc0f512"
      },
      "execution_count": 2,
      "outputs": [
        {
          "output_type": "stream",
          "name": "stderr",
          "text": [
            "Warning: importing 'simtk.openmm' is deprecated.  Import 'openmm' instead.\n",
            "Warning: Unable to load toolkit 'OpenEye Toolkit'. The Open Force Field Toolkit does not require the OpenEye Toolkits, and can use RDKit/AmberTools instead. However, if you have a valid license for the OpenEye Toolkits, consider installing them for faster performance and additional file format support: https://docs.eyesopen.com/toolkits/python/quickstart-python/linuxosx.html OpenEye offers free Toolkit licenses for academics: https://www.eyesopen.com/academic-licensing\n"
          ]
        }
      ]
    },
    {
      "cell_type": "code",
      "source": [
        "# create data directory if not exists\n",
        "HERE = Path(_dh[-1])\n",
        "DATA = HERE / \"data\"\n",
        "DATA.mkdir(exist_ok=True)"
      ],
      "metadata": {
        "id": "IwXgrMjNuYJR"
      },
      "execution_count": 3,
      "outputs": []
    },
    {
      "cell_type": "code",
      "source": [
        "pdbid = \"4XAQ\"\n",
        "ligand_name = \"40F\"\n",
        "pdb_path = DATA / f\"{pdbid}.pdb\"\n",
        "pdb_url = f\"https://files.rcsb.org/download/{pdbid}.pdb\""
      ],
      "metadata": {
        "id": "sC38H0LGustU"
      },
      "execution_count": 4,
      "outputs": []
    },
    {
      "cell_type": "code",
      "source": [
        "r = requests.get(pdb_url)\n",
        "r.raise_for_status()\n",
        "with open(pdb_path, \"wb\") as f:\n",
        "    f.write(r.content)"
      ],
      "metadata": {
        "id": "v6F3kU2hv49-"
      },
      "execution_count": 5,
      "outputs": []
    },
    {
      "cell_type": "code",
      "source": [
        "def prepare_protein(\n",
        "    pdb_file, ignore_missing_residues=True, ignore_terminal_missing_residues=True, ph=7.0\n",
        "):\n",
        "    \n",
        "    fixer = pdbfixer.PDBFixer(str(pdb_file))\n",
        "    fixer.removeHeterogens()  # co-crystallized ligands are unknown to PDBFixer\n",
        "    fixer.findMissingResidues()  # identify missing residues, needed for identification of missing atoms\n",
        "\n",
        "    # if missing terminal residues shall be ignored, remove them from the dictionary\n",
        "    if ignore_terminal_missing_residues:\n",
        "        chains = list(fixer.topology.chains())\n",
        "        keys = fixer.missingResidues.keys()\n",
        "        for key in list(keys):\n",
        "            chain = chains[key[0]]\n",
        "            if key[1] == 0 or key[1] == len(list(chain.residues())):\n",
        "                del fixer.missingResidues[key]\n",
        "\n",
        "    # if all missing residues shall be ignored ignored, clear the dictionary\n",
        "    if ignore_missing_residues:\n",
        "        fixer.missingResidues = {}\n",
        "\n",
        "    fixer.findNonstandardResidues()  # find non-standard residue\n",
        "    fixer.replaceNonstandardResidues()  # replace non-standard residues with standard one\n",
        "    fixer.findMissingAtoms()  # find missing heavy atoms\n",
        "    fixer.addMissingAtoms()  # add missing atoms and residues\n",
        "    fixer.addMissingHydrogens(ph)  # add missing hydrogens\n",
        "    return fixer"
      ],
      "metadata": {
        "id": "Y5KAyYOcv9cF"
      },
      "execution_count": 6,
      "outputs": []
    },
    {
      "cell_type": "code",
      "source": [
        "prepared_protein = prepare_protein(pdb_path, ignore_missing_residues=False)"
      ],
      "metadata": {
        "id": "788W9A79wEqw"
      },
      "execution_count": 7,
      "outputs": []
    },
    {
      "cell_type": "code",
      "source": [
        "def prepare_ligand(pdb_file, resname, smiles, depict=True):\n",
        "\n",
        "    # split molecule\n",
        "    rdkit_mol = Chem.MolFromPDBFile(str(pdb_file))\n",
        "    rdkit_mol_split = Chem.rdmolops.SplitMolByPDBResidues(rdkit_mol)\n",
        "\n",
        "    # extract the ligand and remove any already present hydrogens\n",
        "    ligand = rdkit_mol_split[resname]\n",
        "    ligand = Chem.RemoveHs(ligand)\n",
        "\n",
        "    # assign bond orders from template\n",
        "    reference_mol = Chem.MolFromSmiles(smiles)\n",
        "    prepared_ligand = AllChem.AssignBondOrdersFromTemplate(reference_mol, ligand)\n",
        "    prepared_ligand.AddConformer(ligand.GetConformer(0))\n",
        "\n",
        "    # protonate ligand\n",
        "    prepared_ligand = Chem.rdmolops.AddHs(prepared_ligand, addCoords=True)\n",
        "\n",
        "    # 2D depiction\n",
        "    if depict:\n",
        "        ligand_2d = copy.deepcopy(ligand)\n",
        "        prepared_ligand_2d = copy.deepcopy(prepared_ligand)\n",
        "        AllChem.Compute2DCoords(ligand_2d)\n",
        "        AllChem.Compute2DCoords(prepared_ligand_2d)\n",
        "        display(\n",
        "            Draw.MolsToGridImage(\n",
        "                [ligand_2d, prepared_ligand_2d], molsPerRow=2, legends=[\"original\", \"prepared\"]\n",
        "            )\n",
        "        )\n",
        "\n",
        "    # return ligand\n",
        "    return prepared_ligand"
      ],
      "metadata": {
        "id": "7eI7t2v-wIPE"
      },
      "execution_count": 8,
      "outputs": []
    },
    {
      "cell_type": "code",
      "source": [
        "smiles = \"C1C[C@]([C@H]2[C@@H]1[C@@H]2C(=O)O)(C(=O)O)N\"\n",
        "rdkit_ligand = prepare_ligand(pdb_path, ligand_name, smiles)"
      ],
      "metadata": {
        "colab": {
          "base_uri": "https://localhost:8080/",
          "height": 217
        },
        "id": "lQ3M4WH5n-yi",
        "outputId": "96c4789c-c749-4694-81b9-5a05ce2f93b9"
      },
      "execution_count": 10,
      "outputs": [
        {
          "output_type": "display_data",
          "data": {
            "text/plain": [
              "<PIL.PngImagePlugin.PngImageFile image mode=RGB size=400x200 at 0x7F1D411FF6D0>"
            ],
            "image/png": "[encoded data removed]"
          },
          "metadata": {}
        }
      ]
    },
    {
      "cell_type": "code",
      "source": [
        "def rdkit_to_openmm(rdkit_mol, name=\"LIG\"):\n",
        "    # convert RDKit to OpenFF\n",
        "    off_mol = Molecule.from_rdkit(rdkit_mol)\n",
        "\n",
        "    # add name for molecule\n",
        "    off_mol.name = name\n",
        "\n",
        "    # add names for atoms\n",
        "    element_counter_dict = {}\n",
        "    for off_atom, rdkit_atom in zip(off_mol.atoms, rdkit_mol.GetAtoms()):\n",
        "        element = rdkit_atom.GetSymbol()\n",
        "        if element in element_counter_dict.keys():\n",
        "            element_counter_dict[element] += 1\n",
        "        else:\n",
        "            element_counter_dict[element] = 1\n",
        "        off_atom.name = element + str(element_counter_dict[element])\n",
        "\n",
        "    # convert from OpenFF to OpenMM\n",
        "    off_mol_topology = off_mol.to_topology()\n",
        "    mol_topology = off_mol_topology.to_openmm()\n",
        "    mol_positions = off_mol.conformers[0]\n",
        "\n",
        "    # convert units from Ångström to Nanometers\n",
        "    for atom in mol_positions:\n",
        "        coords = atom / atom.unit\n",
        "        atom = (coords / 10.0) * unit.nanometers  # since openmm works in nm\n",
        "\n",
        "    # combine topology and positions in modeller object\n",
        "    omm_mol = app.Modeller(mol_topology, mol_positions)\n",
        "\n",
        "    return omm_mol\n",
        "    "
      ],
      "metadata": {
        "id": "rKCRUDOIoCZ2"
      },
      "execution_count": 11,
      "outputs": []
    },
    {
      "cell_type": "code",
      "source": [
        "omm_ligand = rdkit_to_openmm(rdkit_ligand, ligand_name)"
      ],
      "metadata": {
        "id": "puCsG1dyqN36"
      },
      "execution_count": 12,
      "outputs": []
    },
    {
      "cell_type": "code",
      "source": [
        "def merge_protein_and_ligand(protein, ligand):\n",
        "    # combine topologies\n",
        "    md_protein_topology = md.Topology.from_openmm(protein.topology)  # using mdtraj for protein top\n",
        "    md_ligand_topology = md.Topology.from_openmm(ligand.topology)  # using mdtraj for ligand top\n",
        "    md_complex_topology = md_protein_topology.join(md_ligand_topology)  # add them together\n",
        "    complex_topology = md_complex_topology.to_openmm()\n",
        "\n",
        "    # combine positions\n",
        "    total_atoms = len(protein.positions) + len(ligand.positions)\n",
        "\n",
        "    # create an array for storing all atom positions as tupels containing a value and a unit\n",
        "    # called OpenMM Quantities\n",
        "    complex_positions = unit.Quantity(np.zeros([total_atoms, 3]), unit=unit.nanometers)\n",
        "    complex_positions[: len(protein.positions)] = protein.positions  # add protein positions\n",
        "    complex_positions[len(protein.positions) :] = ligand.positions  # add ligand positions\n",
        "\n",
        "    return complex_topology, complex_positions"
      ],
      "metadata": {
        "id": "yi10sTqpqRYq"
      },
      "execution_count": 13,
      "outputs": []
    },
    {
      "cell_type": "code",
      "source": [
        "complex_topology, complex_positions = merge_protein_and_ligand(prepared_protein, omm_ligand)\n",
        "print(\"Complex topology has\", complex_topology.getNumAtoms(), \"atoms.\")"
      ],
      "metadata": {
        "colab": {
          "base_uri": "https://localhost:8080/"
        },
        "id": "6XeNydk4qaLN",
        "outputId": "fd7e22b5-c6c8-41c4-ce47-0bf13c42cbc8"
      },
      "execution_count": 14,
      "outputs": [
        {
          "output_type": "stream",
          "name": "stdout",
          "text": [
            "Complex topology has 16086 atoms.\n"
          ]
        }
      ]
    },
    {
      "cell_type": "code",
      "source": [],
      "metadata": {
        "id": "8Yu5i_fuqfgM"
      },
      "execution_count": null,
      "outputs": []
    }
  ]
}