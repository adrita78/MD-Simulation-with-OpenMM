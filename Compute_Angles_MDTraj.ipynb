{
  "nbformat": 4,
  "nbformat_minor": 0,
  "metadata": {
    "colab": {
      "provenance": []
    },
    "kernelspec": {
      "name": "python3",
      "display_name": "Python 3"
    },
    "language_info": {
      "name": "python"
    }
  },
  "cells": [
    {
      "cell_type": "code",
      "execution_count": 1,
      "metadata": {
        "colab": {
          "base_uri": "https://localhost:8080/"
        },
        "id": "0mn4LZ3uNBo9",
        "outputId": "6e479098-c935-45f8-ddf5-9abebbcb098f"
      },
      "outputs": [
        {
          "output_type": "stream",
          "name": "stdout",
          "text": [
            "Looking in indexes: https://pypi.org/simple, https://us-python.pkg.dev/colab-wheels/public/simple/\n",
            "Collecting mdtraj\n",
            "  Downloading mdtraj-1.9.7.tar.gz (2.1 MB)\n",
            "\u001b[K     |████████████████████████████████| 2.1 MB 11.0 MB/s \n",
            "\u001b[?25h  Installing build dependencies ... \u001b[?25l\u001b[?25hdone\n",
            "  Getting requirements to build wheel ... \u001b[?25l\u001b[?25hdone\n",
            "    Preparing wheel metadata ... \u001b[?25l\u001b[?25hdone\n",
            "Requirement already satisfied: numpy>=1.6 in /usr/local/lib/python3.7/dist-packages (from mdtraj) (1.21.6)\n",
            "Requirement already satisfied: scipy in /usr/local/lib/python3.7/dist-packages (from mdtraj) (1.7.3)\n",
            "Requirement already satisfied: astunparse in /usr/local/lib/python3.7/dist-packages (from mdtraj) (1.6.3)\n",
            "Requirement already satisfied: pyparsing in /usr/local/lib/python3.7/dist-packages (from mdtraj) (3.0.9)\n",
            "Requirement already satisfied: wheel<1.0,>=0.23.0 in /usr/local/lib/python3.7/dist-packages (from astunparse->mdtraj) (0.37.1)\n",
            "Requirement already satisfied: six<2.0,>=1.6.1 in /usr/local/lib/python3.7/dist-packages (from astunparse->mdtraj) (1.15.0)\n",
            "Building wheels for collected packages: mdtraj\n",
            "  Building wheel for mdtraj (PEP 517) ... \u001b[?25l\u001b[?25hdone\n",
            "  Created wheel for mdtraj: filename=mdtraj-1.9.7-cp37-cp37m-linux_x86_64.whl size=5545871 sha256=d021f76a88b1e80fc33689dbff6682519bae6674f4acee14da64e83ca2fb82b4\n",
            "  Stored in directory: /root/.cache/pip/wheels/6f/84/9d/6854e5264a4423209de26a6e4b34d13750289c72ba0439bbfd\n",
            "Successfully built mdtraj\n",
            "Installing collected packages: mdtraj\n",
            "Successfully installed mdtraj-1.9.7\n"
          ]
        }
      ],
      "source": [
        "pip install mdtraj"
      ]
    },
    {
      "cell_type": "code",
      "source": [
        "# importing necessary libraries\n",
        "\n",
        "import mdtraj\n",
        "import numpy\n",
        "\n",
        "# import graphics library\n",
        "\n",
        "%pylab inline\n",
        "import matplotlib.pyplot as plt"
      ],
      "metadata": {
        "colab": {
          "base_uri": "https://localhost:8080/"
        },
        "id": "k5E2llGcNKSR",
        "outputId": "dbea6184-24e4-4c09-ac20-b009fa77b82f"
      },
      "execution_count": 2,
      "outputs": [
        {
          "output_type": "stream",
          "name": "stdout",
          "text": [
            "Populating the interactive namespace from numpy and matplotlib\n"
          ]
        }
      ]
    },
    {
      "cell_type": "code",
      "source": [
        "traj_1 = mdtraj.load('trj124.lh5')"
      ],
      "metadata": {
        "id": "aOJm7MtSPtPL"
      },
      "execution_count": 3,
      "outputs": []
    },
    {
      "cell_type": "code",
      "source": [
        "angle_indices = [[1, 2, 3], [4, 5, 6]]\n",
        "print(angle_indices)\n",
        "ndim(angle_indices)\n",
        "shape(angle_indices)"
      ],
      "metadata": {
        "colab": {
          "base_uri": "https://localhost:8080/"
        },
        "id": "fXL61uwPSqO6",
        "outputId": "1bbe781b-efa0-4ee2-db8b-89e1d160a93f"
      },
      "execution_count": 28,
      "outputs": [
        {
          "output_type": "stream",
          "name": "stdout",
          "text": [
            "[[1, 2, 3], [4, 5, 6]]\n"
          ]
        },
        {
          "output_type": "execute_result",
          "data": {
            "text/plain": [
              "(2, 3)"
            ]
          },
          "metadata": {},
          "execution_count": 28
        }
      ]
    },
    {
      "cell_type": "code",
      "source": [
        "mdtraj.compute_angles(traj_1, angle_indices)\n",
        "#Compute the bond angles between the supplied triplets of indices in each frame of a trajectory.\n"
      ],
      "metadata": {
        "colab": {
          "base_uri": "https://localhost:8080/"
        },
        "id": "KO7cJnfLP6tj",
        "outputId": "cb0c29f4-3f95-4e94-8c3f-5510b8a688bf"
      },
      "execution_count": 27,
      "outputs": [
        {
          "output_type": "execute_result",
          "data": {
            "text/plain": [
              "array([[2.0533895, 1.3304816],\n",
              "       [2.0248704, 1.9637103],\n",
              "       [2.0181618, 1.5278873],\n",
              "       [2.0069187, 1.5359544],\n",
              "       [2.053691 , 1.371304 ],\n",
              "       [2.0425038, 1.2316005],\n",
              "       [2.005143 , 1.3451483],\n",
              "       [2.1530352, 1.5907977],\n",
              "       [2.059033 , 1.3933454],\n",
              "       [1.9355149, 1.3300186],\n",
              "       [1.9562968, 1.4304246],\n",
              "       [2.061586 , 1.533565 ],\n",
              "       [1.9843533, 1.4312745],\n",
              "       [2.0047655, 1.4058874],\n",
              "       [2.0841548, 1.3230218],\n",
              "       [2.0431082, 1.4339323],\n",
              "       [1.9715128, 1.4823153],\n",
              "       [2.06118  , 1.983667 ],\n",
              "       [2.0748506, 1.6007698],\n",
              "       [1.9860438, 1.4792163],\n",
              "       [1.991925 , 1.5880489],\n",
              "       [2.0123992, 1.4024898],\n",
              "       [1.9445338, 1.5481058]], dtype=float32)"
            ]
          },
          "metadata": {},
          "execution_count": 27
        }
      ]
    },
    {
      "cell_type": "code",
      "source": [],
      "metadata": {
        "id": "ZBPB69T5XxG_"
      },
      "execution_count": null,
      "outputs": []
    },
    {
      "cell_type": "code",
      "source": [
        "angle_indices = [[1, 2, 3,10], [4, 5, 6,11],[7,8,9,12]]\n",
        "print(angle_indices)\n",
        "ndim(angle_indices)\n",
        "shape(angle_indices)"
      ],
      "metadata": {
        "colab": {
          "base_uri": "https://localhost:8080/"
        },
        "outputId": "cd30793b-ee08-4e90-8f1d-8384c57332a0",
        "id": "-85QR_xmY_0d"
      },
      "execution_count": 31,
      "outputs": [
        {
          "output_type": "stream",
          "name": "stdout",
          "text": [
            "[[1, 2, 3, 10], [4, 5, 6, 11], [7, 8, 9, 12]]\n"
          ]
        },
        {
          "output_type": "execute_result",
          "data": {
            "text/plain": [
              "(3, 4)"
            ]
          },
          "metadata": {},
          "execution_count": 31
        }
      ]
    },
    {
      "cell_type": "code",
      "source": [
        "\n",
        "mdtraj.compute_dihedrals(traj_1, angle_indices, periodic=True, opt=True)"
      ],
      "metadata": {
        "colab": {
          "base_uri": "https://localhost:8080/"
        },
        "id": "Lj6-Q6uBQHHH",
        "outputId": "905907cf-d17d-43ca-b7ff-447bb2359f2e"
      },
      "execution_count": 32,
      "outputs": [
        {
          "output_type": "execute_result",
          "data": {
            "text/plain": [
              "array([[ 0.32053164,  2.3204694 , -2.7160876 ],\n",
              "       [-0.86970955,  2.4307466 , -3.0853724 ],\n",
              "       [ 0.6090827 ,  2.0541089 , -2.9144325 ],\n",
              "       [ 0.44353747,  2.2103605 , -2.875709  ],\n",
              "       [ 0.6034984 ,  2.0652175 , -2.486884  ],\n",
              "       [ 0.6204567 ,  2.2058733 , -2.775757  ],\n",
              "       [ 0.47939903,  2.2248151 , -2.4505744 ],\n",
              "       [-0.20632218,  2.4205213 , -2.936008  ],\n",
              "       [ 0.38235223,  2.4335976 , -2.9803994 ],\n",
              "       [ 0.5830074 ,  2.3601189 , -2.9289012 ],\n",
              "       [ 0.6124295 ,  2.119749  , -3.001038  ],\n",
              "       [ 0.66442823,  2.1044416 , -2.9686024 ],\n",
              "       [ 0.30428904,  2.425295  , -3.0196636 ],\n",
              "       [ 0.4986574 ,  2.2871869 , -2.971988  ],\n",
              "       [ 0.36213323,  2.4514337 , -2.6459632 ],\n",
              "       [ 0.4277894 ,  2.174562  , -2.84561   ],\n",
              "       [ 0.39608374,  2.3544135 , -2.7850869 ],\n",
              "       [-0.90806437,  2.5627832 , -2.8527014 ],\n",
              "       [ 0.70217997,  2.02868   , -2.994889  ],\n",
              "       [ 0.21274307,  2.3551958 , -2.8294146 ],\n",
              "       [ 0.82346964,  1.9131912 , -2.6250486 ],\n",
              "       [ 0.536301  ,  2.2399065 , -2.9594948 ],\n",
              "       [ 0.67777175,  1.9810704 , -2.8007123 ]], dtype=float32)"
            ]
          },
          "metadata": {},
          "execution_count": 32
        }
      ]
    },
    {
      "cell_type": "code",
      "source": [
        "mdtraj.compute_omega(traj_1, periodic=True, opt=True)"
      ],
      "metadata": {
        "colab": {
          "base_uri": "https://localhost:8080/"
        },
        "id": "AhGzKRFxXqeL",
        "outputId": "34db1063-1278-4706-8545-be0bb0ade0d8"
      },
      "execution_count": 33,
      "outputs": [
        {
          "output_type": "execute_result",
          "data": {
            "text/plain": [
              "(array([[   1,    5,    7,    8],\n",
              "        [   8,   19,   21,   22],\n",
              "        [  22,   26,   28,   29],\n",
              "        ...,\n",
              "        [2145, 2151, 2153, 2154],\n",
              "        [2154, 2159, 2161, 2162],\n",
              "        [2162, 2167, 2169, 2170]]),\n",
              " array([[ 3.0077171, -3.1388087,  3.1019807, ..., -3.0758867,  3.0818431,\n",
              "          2.9079444],\n",
              "        [-3.0043206, -2.9843638,  3.121034 , ...,  3.136576 ,  3.0860536,\n",
              "          2.9388962],\n",
              "        [ 3.0697508,  3.0870662,  3.0348551, ...,  3.055461 ,  2.9754868,\n",
              "          2.90953  ],\n",
              "        ...,\n",
              "        [-3.1042964, -3.089155 ,  2.8965743, ...,  3.0287824, -3.1366735,\n",
              "          3.0621583],\n",
              "        [ 3.0964882,  2.9118528,  3.0376947, ...,  3.1324682, -3.088469 ,\n",
              "          2.860575 ],\n",
              "        [ 3.094974 ,  3.032819 ,  3.041661 , ..., -2.9875526,  3.1024222,\n",
              "          2.8868294]], dtype=float32))"
            ]
          },
          "metadata": {},
          "execution_count": 33
        }
      ]
    },
    {
      "cell_type": "code",
      "source": [],
      "metadata": {
        "id": "ZbklGIXvZbtR"
      },
      "execution_count": null,
      "outputs": []
    }
  ]
}